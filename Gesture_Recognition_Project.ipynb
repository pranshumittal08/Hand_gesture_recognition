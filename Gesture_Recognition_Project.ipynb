{
 "cells": [
  {
   "cell_type": "markdown",
   "metadata": {},
   "source": [
    "# Gesture Recognition\n",
    "In this group project, you are going to build a 3D Conv model that will be able to predict the 5 gestures correctly. Please import the following libraries to get started."
   ]
  },
  {
   "cell_type": "code",
   "execution_count": 2,
   "metadata": {},
   "outputs": [],
   "source": [
    "import numpy as np\n",
    "import os\n",
    "from scipy.misc import imread, imresize\n",
    "from skimage.transform import resize\n",
    "import imageio\n",
    "import datetime\n",
    "import os"
   ]
  },
  {
   "cell_type": "markdown",
   "metadata": {},
   "source": [
    "We set the random seed so that the results don't vary drastically."
   ]
  },
  {
   "cell_type": "code",
   "execution_count": 2,
   "metadata": {},
   "outputs": [
    {
     "name": "stderr",
     "output_type": "stream",
     "text": [
      "Using TensorFlow backend.\n"
     ]
    }
   ],
   "source": [
    "np.random.seed(30)\n",
    "import random as rn\n",
    "rn.seed(30)\n",
    "from keras import backend as K\n",
    "import tensorflow as tf\n",
    "tf.set_random_seed(30)"
   ]
  },
  {
   "cell_type": "markdown",
   "metadata": {},
   "source": [
    "In this block, you read the folder names for training and validation. You also set the `batch_size` here. Note that you set the batch size in such a way that you are able to use the GPU in full capacity. You keep increasing the batch size until the machine throws an error."
   ]
  },
  {
   "cell_type": "code",
   "execution_count": 3,
   "metadata": {},
   "outputs": [],
   "source": [
    "train_doc = np.random.permutation(open('./Project_data/train.csv').readlines())\n",
    "val_doc = np.random.permutation(open('./Project_data/val.csv').readlines())\n",
    "batch_size = 5\n",
    "#experiment with the batch size"
   ]
  },
  {
   "cell_type": "markdown",
   "metadata": {},
   "source": [
    "## Generator\n",
    "This is one of the most important part of the code. The overall structure of the generator has been given. In the generator, you are going to preprocess the images as you have images of 2 different dimensions as well as create a batch of video frames. You have to experiment with `img_idx`, `y`,`z` and normalization such that you get high accuracy."
   ]
  },
  {
   "cell_type": "code",
   "execution_count": 4,
   "metadata": {},
   "outputs": [],
   "source": [
    "def generator(source_path, folder_list, batch_size):\n",
    "    print( 'Source path = ', source_path, '; batch size =', batch_size)\n",
    "    img_idx =  [x for x in range(0,30)]                                            #create a list of image numbers you want to use for a particular video\n",
    "    while True:\n",
    "        t = np.random.permutation(folder_list)\n",
    "        num_batches = len(folder_list) // batch_size                                  # calculate the number of batches\n",
    "        for batch in range(num_batches):                                              # we iterate over the number of batches\n",
    "            batch_data = np.zeros((batch_size,len(img_idx),120,120,3))                # x is the number of images you use for each video, (y,z) is the final size of the input images and 3 is the number of channels RGB\n",
    "            batch_labels = np.zeros((batch_size,5))                                   # batch_labels is the one hot representation of the output\n",
    "            for folder in range(batch_size):                                          # iterate over the batch_size\n",
    "                imgs = os.listdir(source_path+'/'+ t[folder + (batch*batch_size)].split(';')[0]) # read all the images in the folder\n",
    "                for idx,item in enumerate(img_idx):                                   #  Iterate iver the frames/images of a folder to read them in\n",
    "                    image = imageio.imread(source_path+'/'+ t[folder + (batch*batch_size)].strip().split(';')[0]+'/'+imgs[item]).astype(np.float32)\n",
    "                    image= resize(image,[120,120])\n",
    "                    \n",
    "                    #crop the images and resize them. Note that the images are of 2 different shape \n",
    "                    #and the conv3D will throw error if the inputs in a batch have different shapes\n",
    "                    \n",
    "                    batch_data[folder,idx,:,:,0] = (image[:, : , 0] - np.percentile(image[:, : , 0],5))/ (np.percentile(image[:, : , 0],95) - np.percentile(image[:, : , 0],5)) #normalise and feed in the image\n",
    "                    batch_data[folder,idx,:,:,1] = (image[:, : , 1] - np.percentile(image[:, : , 1],5))/ (np.percentile(image[:, : , 1],95) - np.percentile(image[:, : , 1],5))#normalise and feed in the image\n",
    "                    batch_data[folder,idx,:,:,2] = (image[:, : , 2] - np.percentile(image[:, : , 2],5))/ (np.percentile(image[:, : , 2],95) - np.percentile(image[:, : , 2],5))#normalise and feed in the image\n",
    "                    \n",
    "                batch_labels[folder, int(t[folder + (batch*batch_size)].strip().split(';')[2])] = 1\n",
    "            yield batch_data, batch_labels #you yield the batch_data and the batch_labels, remember what does yield do\n",
    "\n",
    "        \n",
    "        # write the code for the remaining data points which are left after full batches\n",
    "        if (len(folder_list))> batch_size*num_batches:\n",
    "            batch=(len(folder_list) // batch_size)\n",
    "            remaining_folders = len(folder_list)- ((len(folder_list) // batch_size)*batch_size)       # calculate the number of batchesfor batch in range(num_batches): # we iterate over the number of batches\n",
    "            batch_data = np.zeros((remaining_folders,len(img_idx),120,120,3)) # x is the number of images you use for each video, (y,z) is the final size of the input images and 3 is the number of channels RGB\n",
    "            batch_labels = np.zeros((remaining_folders,5)) # batch_labels is the one hot representation of the output\n",
    "            for folder in range(remaining_folders): # iterate over the batch_size\n",
    "                imgs = os.listdir(source_path+'/'+ t[folder + (batch*batch_size)].split(';')[0]) # read all the images in the folder\n",
    "                for idx,item in enumerate(img_idx): #  Iterate iver the frames/images of a folder to read them in\n",
    "                    image = imageio.imread(source_path+'/'+ t[folder + (batch*batch_size)].strip().split(';')[0]+'/'+imgs[item]).astype(np.float32)\n",
    "                    image= resize(image,[120,120])\n",
    "                    #crop the images and resize them. Note that the images are of 2 different shape \n",
    "                    #and the conv3D will throw error if the inputs in a batch have different shapes\n",
    "                    \n",
    "                    batch_data[folder,idx,:,:,0] = (image[:, : , 0] - np.percentile(image[:, : , 0],5))/ (np.percentile(image[:, : , 0],95) - np.percentile(image[:, : , 0],5)) #normalise and feed in the image\n",
    "                    batch_data[folder,idx,:,:,1] = (image[:, : , 1] - np.percentile(image[:, : , 1],5))/ (np.percentile(image[:, : , 1],95) - np.percentile(image[:, : , 1],5))#normalise and feed in the image\n",
    "                    batch_data[folder,idx,:,:,2] = (image[:, : , 2] - np.percentile(image[:, : , 2],5))/ (np.percentile(image[:, : , 2],95) - np.percentile(image[:, : , 2],5))#normalise and feed in the image\n",
    "                    \n",
    "                batch_labels[folder, int(t[folder + (batch*batch_size)].strip().split(';')[2])] = 1\n",
    "            yield batch_data, batch_labels"
   ]
  },
  {
   "cell_type": "markdown",
   "metadata": {},
   "source": [
    "Note here that a video is represented above in the generator as (number of images, height, width, number of channels). Take this into consideration while creating the model architecture."
   ]
  },
  {
   "cell_type": "code",
   "execution_count": 5,
   "metadata": {},
   "outputs": [
    {
     "name": "stdout",
     "output_type": "stream",
     "text": [
      "# training sequences = 663\n",
      "# validation sequences = 100\n",
      "# epochs = 25\n"
     ]
    }
   ],
   "source": [
    "curr_dt_time = datetime.datetime.now()\n",
    "train_path = './Project_data/train'\n",
    "val_path = './Project_data/val'\n",
    "num_train_sequences = len(train_doc)\n",
    "print('# training sequences =', num_train_sequences)\n",
    "num_val_sequences = len(val_doc)\n",
    "print('# validation sequences =', num_val_sequences)\n",
    "num_epochs = 20  # choose the number of epochs\n",
    "print ('# epochs =', num_epochs)"
   ]
  },
  {
   "cell_type": "markdown",
   "metadata": {},
   "source": [
    "## Model\n",
    "Here you make the model using different functionalities that Keras provides. Remember to use `Conv3D` and `MaxPooling3D` and not `Conv2D` and `Maxpooling2D` for a 3D convolution model. You would want to use `TimeDistributed` while building a Conv2D + RNN model. Also remember that the last layer is the softmax. Design the network in such a way that the model is able to give good accuracy on the least number of parameters so that it can fit in the memory of the webcam."
   ]
  },
  {
   "cell_type": "code",
   "execution_count": 21,
   "metadata": {},
   "outputs": [],
   "source": [
    "from keras.models import Sequential, Model\n",
    "from keras import layers\n",
    "from keras.layers import Dense, GRU, Flatten, TimeDistributed, Flatten, BatchNormalization, Activation, Dropout\n",
    "from keras.layers.convolutional import Conv3D, MaxPooling3D\n",
    "from keras.callbacks import ModelCheckpoint, ReduceLROnPlateau\n",
    "from keras import optimizers\n",
    "from keras.optimizers import Adam"
   ]
  },
  {
   "cell_type": "code",
   "execution_count": 22,
   "metadata": {},
   "outputs": [],
   "source": [
    "# 16,32,64 kernels in 3 consecutive conv3D layers\n",
    "model = Sequential()\n",
    "# 1st Layer Group\n",
    "model.add(Conv3D(16, kernel_size=(3,3,3), input_shape=(30,120,120,3),padding='same'))\n",
    "model.add(BatchNormalization())\n",
    "model.add(Activation('relu'))\n",
    "model.add(MaxPooling3D(pool_size=(3,3,3)))\n",
    "# 2nd Layer Group\n",
    "model.add(Conv3D(32, kernel_size=(3,3,3),padding='same'))\n",
    "model.add(BatchNormalization())\n",
    "model.add(Activation('relu'))\n",
    "model.add(MaxPooling3D(pool_size=(3,3,3)))\n",
    "# 3rd Layer Group\n",
    "model.add(Conv3D(64, kernel_size=(3,3,3),padding='same'))\n",
    "model.add(BatchNormalization())\n",
    "model.add(Activation('relu'))\n",
    "model.add(MaxPooling3D(pool_size=(3,3,3)))\n",
    "\n",
    "# FC layer group\n",
    "model.add(Flatten())\n",
    "model.add(layers.Dropout(0.5))\n",
    "model.add(Dense(500, activation='relu'))\n",
    "# Softmax Layer\n",
    "model.add(Dense(5, activation='softmax'))"
   ]
  },
  {
   "cell_type": "markdown",
   "metadata": {},
   "source": [
    "Now that you have written the model, the next step is to `compile` the model. When you print the `summary` of the model, you'll see the total number of parameters you have to train."
   ]
  },
  {
   "cell_type": "code",
   "execution_count": 23,
   "metadata": {
    "scrolled": true
   },
   "outputs": [
    {
     "name": "stdout",
     "output_type": "stream",
     "text": [
      "_________________________________________________________________\n",
      "Layer (type)                 Output Shape              Param #   \n",
      "=================================================================\n",
      "conv3d_7 (Conv3D)            (None, 30, 120, 120, 16)  1312      \n",
      "_________________________________________________________________\n",
      "batch_normalization_7 (Batch (None, 30, 120, 120, 16)  64        \n",
      "_________________________________________________________________\n",
      "activation_7 (Activation)    (None, 30, 120, 120, 16)  0         \n",
      "_________________________________________________________________\n",
      "max_pooling3d_7 (MaxPooling3 (None, 10, 40, 40, 16)    0         \n",
      "_________________________________________________________________\n",
      "conv3d_8 (Conv3D)            (None, 10, 40, 40, 32)    13856     \n",
      "_________________________________________________________________\n",
      "batch_normalization_8 (Batch (None, 10, 40, 40, 32)    128       \n",
      "_________________________________________________________________\n",
      "activation_8 (Activation)    (None, 10, 40, 40, 32)    0         \n",
      "_________________________________________________________________\n",
      "max_pooling3d_8 (MaxPooling3 (None, 3, 13, 13, 32)     0         \n",
      "_________________________________________________________________\n",
      "conv3d_9 (Conv3D)            (None, 3, 13, 13, 64)     55360     \n",
      "_________________________________________________________________\n",
      "batch_normalization_9 (Batch (None, 3, 13, 13, 64)     256       \n",
      "_________________________________________________________________\n",
      "activation_9 (Activation)    (None, 3, 13, 13, 64)     0         \n",
      "_________________________________________________________________\n",
      "max_pooling3d_9 (MaxPooling3 (None, 1, 4, 4, 64)       0         \n",
      "_________________________________________________________________\n",
      "flatten_3 (Flatten)          (None, 1024)              0         \n",
      "_________________________________________________________________\n",
      "dropout_2 (Dropout)          (None, 1024)              0         \n",
      "_________________________________________________________________\n",
      "dense_3 (Dense)              (None, 500)               512500    \n",
      "_________________________________________________________________\n",
      "dense_4 (Dense)              (None, 5)                 2505      \n",
      "=================================================================\n",
      "Total params: 585,981\n",
      "Trainable params: 585,757\n",
      "Non-trainable params: 224\n",
      "_________________________________________________________________\n",
      "None\n"
     ]
    }
   ],
   "source": [
    "optimiser = Adam()               #write your optimizer\n",
    "model.compile(optimizer=optimiser, loss='categorical_crossentropy', metrics=['categorical_accuracy'])\n",
    "print (model.summary())"
   ]
  },
  {
   "cell_type": "markdown",
   "metadata": {},
   "source": [
    "Let us create the `train_generator` and the `val_generator` which will be used in `.fit_generator`."
   ]
  },
  {
   "cell_type": "code",
   "execution_count": 8,
   "metadata": {},
   "outputs": [],
   "source": [
    "train_generator = generator(train_path, train_doc, batch_size)\n",
    "val_generator = generator(val_path, val_doc, batch_size)"
   ]
  },
  {
   "cell_type": "code",
   "execution_count": 9,
   "metadata": {},
   "outputs": [],
   "source": [
    "model_name = 'model_init' + '_' + str(curr_dt_time).replace(' ','').replace(':','_') + '/'\n",
    "    \n",
    "if not os.path.exists(model_name):\n",
    "    os.mkdir(model_name)\n",
    "        \n",
    "filepath = model_name + 'model-{epoch:05d}-{loss:.5f}-{categorical_accuracy:.5f}-{val_loss:.5f}-{val_categorical_accuracy:.5f}.h5'\n",
    "\n",
    "checkpoint = ModelCheckpoint(filepath, monitor='val_loss', verbose=1, save_best_only=False, save_weights_only=False, mode='auto', period=1)\n",
    "\n",
    "LR = ReduceLROnPlateau(monitor='val_loss', factor=0.5, patience=3, cooldown=1, verbose=1)     # write the REducelronplateau code here\n",
    "callbacks_list = [checkpoint, LR]"
   ]
  },
  {
   "cell_type": "markdown",
   "metadata": {},
   "source": [
    "The `steps_per_epoch` and `validation_steps` are used by `fit_generator` to decide the number of next() calls it need to make."
   ]
  },
  {
   "cell_type": "code",
   "execution_count": 10,
   "metadata": {},
   "outputs": [],
   "source": [
    "if (num_train_sequences%batch_size) == 0:\n",
    "    steps_per_epoch = int(num_train_sequences/batch_size)\n",
    "else:\n",
    "    steps_per_epoch = (num_train_sequences//batch_size) + 1\n",
    "\n",
    "if (num_val_sequences%batch_size) == 0:\n",
    "    validation_steps = int(num_val_sequences/batch_size)\n",
    "else:\n",
    "    validation_steps = (num_val_sequences//batch_size) + 1"
   ]
  },
  {
   "cell_type": "markdown",
   "metadata": {},
   "source": [
    "Let us now fit the model. This will start training the model and with the help of the checkpoints, you'll be able to save the model at the end of each epoch."
   ]
  },
  {
   "cell_type": "code",
   "execution_count": 38,
   "metadata": {
    "scrolled": true
   },
   "outputs": [
    {
     "name": "stdout",
     "output_type": "stream",
     "text": [
      "Epoch 1/20\n",
      "133/133 [==============================] - 328s 2s/step - loss: 2.4431 - categorical_accuracy: 0.3353 - val_loss: 1.4296 - val_categorical_accuracy: 0.3900\n",
      "\n",
      "Epoch 00001: saving model to model_init_2020-12-2608_14_47.401642/model-00001-2.44166-0.33635-1.42964-0.39000.h5\n",
      "Epoch 2/20\n",
      "133/133 [==============================] - 297s 2s/step - loss: 1.3037 - categorical_accuracy: 0.4426 - val_loss: 0.9452 - val_categorical_accuracy: 0.6300\n",
      "\n",
      "Epoch 00002: saving model to model_init_2020-12-2608_14_47.401642/model-00002-1.30560-0.44193-0.94521-0.63000.h5\n",
      "Epoch 3/20\n",
      "133/133 [==============================] - 302s 2s/step - loss: 1.2180 - categorical_accuracy: 0.5133 - val_loss: 1.0841 - val_categorical_accuracy: 0.5800\n",
      "\n",
      "Epoch 00003: saving model to model_init_2020-12-2608_14_47.401642/model-00003-1.21900-0.51282-1.08408-0.58000.h5\n",
      "Epoch 4/20\n",
      "133/133 [==============================] - 299s 2s/step - loss: 1.0595 - categorical_accuracy: 0.5955 - val_loss: 0.9067 - val_categorical_accuracy: 0.6400\n",
      "\n",
      "Epoch 00004: saving model to model_init_2020-12-2608_14_47.401642/model-00004-1.05596-0.59729-0.90668-0.64000.h5\n",
      "Epoch 5/20\n",
      "133/133 [==============================] - 299s 2s/step - loss: 0.9043 - categorical_accuracy: 0.6231 - val_loss: 1.0517 - val_categorical_accuracy: 0.6100\n",
      "\n",
      "Epoch 00005: saving model to model_init_2020-12-2608_14_47.401642/model-00005-0.90448-0.62293-1.05169-0.61000.h5\n",
      "Epoch 6/20\n",
      "133/133 [==============================] - 304s 2s/step - loss: 0.8087 - categorical_accuracy: 0.6732 - val_loss: 0.9165 - val_categorical_accuracy: 0.6400\n",
      "\n",
      "Epoch 00006: saving model to model_init_2020-12-2608_14_47.401642/model-00006-0.80716-0.67421-0.91653-0.64000.h5\n",
      "Epoch 7/20\n",
      "133/133 [==============================] - 300s 2s/step - loss: 0.7734 - categorical_accuracy: 0.7038 - val_loss: 0.6528 - val_categorical_accuracy: 0.7600\n",
      "\n",
      "Epoch 00007: saving model to model_init_2020-12-2608_14_47.401642/model-00007-0.77496-0.70287-0.65281-0.76000.h5\n",
      "Epoch 8/20\n",
      "133/133 [==============================] - 300s 2s/step - loss: 0.6366 - categorical_accuracy: 0.7579 - val_loss: 1.1473 - val_categorical_accuracy: 0.5300\n",
      "\n",
      "Epoch 00008: saving model to model_init_2020-12-2608_14_47.401642/model-00008-0.63807-0.75716-1.14730-0.53000.h5\n",
      "Epoch 9/20\n",
      "133/133 [==============================] - 297s 2s/step - loss: 0.5798 - categorical_accuracy: 0.7779 - val_loss: 0.9191 - val_categorical_accuracy: 0.6100\n",
      "\n",
      "Epoch 00009: saving model to model_init_2020-12-2608_14_47.401642/model-00009-0.57893-0.77828-0.91907-0.61000.h5\n",
      "Epoch 10/20\n",
      "133/133 [==============================] - 305s 2s/step - loss: 0.5922 - categorical_accuracy: 0.7634 - val_loss: 1.3890 - val_categorical_accuracy: 0.4900\n",
      "\n",
      "Epoch 00010: saving model to model_init_2020-12-2608_14_47.401642/model-00010-0.58962-0.76471-1.38900-0.49000.h5\n",
      "\n",
      "Epoch 00010: ReduceLROnPlateau reducing learning rate to 0.00020000000949949026.\n",
      "Epoch 11/20\n",
      "133/133 [==============================] - 311s 2s/step - loss: 0.4328 - categorical_accuracy: 0.8346 - val_loss: 0.4550 - val_categorical_accuracy: 0.8600\n",
      "\n",
      "Epoch 00011: saving model to model_init_2020-12-2608_14_47.401642/model-00011-0.43312-0.83409-0.45498-0.86000.h5\n",
      "Epoch 12/20\n",
      "133/133 [==============================] - 314s 2s/step - loss: 0.3210 - categorical_accuracy: 0.8842 - val_loss: 0.4719 - val_categorical_accuracy: 0.8700\n",
      "\n",
      "Epoch 00012: saving model to model_init_2020-12-2608_14_47.401642/model-00012-0.32147-0.88386-0.47187-0.87000.h5\n",
      "Epoch 13/20\n",
      "133/133 [==============================] - 313s 2s/step - loss: 0.3610 - categorical_accuracy: 0.8707 - val_loss: 0.5823 - val_categorical_accuracy: 0.7700\n",
      "\n",
      "Epoch 00013: saving model to model_init_2020-12-2608_14_47.401642/model-00013-0.36171-0.87029-0.58227-0.77000.h5\n",
      "Epoch 14/20\n",
      "133/133 [==============================] - 312s 2s/step - loss: 0.3388 - categorical_accuracy: 0.8752 - val_loss: 0.4363 - val_categorical_accuracy: 0.8400\n",
      "\n",
      "Epoch 00014: saving model to model_init_2020-12-2608_14_47.401642/model-00014-0.33828-0.87481-0.43633-0.84000.h5\n",
      "Epoch 15/20\n",
      "133/133 [==============================] - 312s 2s/step - loss: 0.2600 - categorical_accuracy: 0.9128 - val_loss: 0.7493 - val_categorical_accuracy: 0.7200\n",
      "\n",
      "Epoch 00015: saving model to model_init_2020-12-2608_14_47.401642/model-00015-0.26061-0.91252-0.74925-0.72000.h5\n",
      "Epoch 16/20\n",
      "133/133 [==============================] - 314s 2s/step - loss: 0.3073 - categorical_accuracy: 0.8812 - val_loss: 0.3716 - val_categorical_accuracy: 0.8600\n",
      "\n",
      "Epoch 00016: saving model to model_init_2020-12-2608_14_47.401642/model-00016-0.30809-0.88084-0.37162-0.86000.h5\n",
      "Epoch 17/20\n",
      "133/133 [==============================] - 315s 2s/step - loss: 0.2571 - categorical_accuracy: 0.9113 - val_loss: 0.3650 - val_categorical_accuracy: 0.8800\n",
      "\n",
      "Epoch 00017: saving model to model_init_2020-12-2608_14_47.401642/model-00017-0.25785-0.91101-0.36496-0.88000.h5\n",
      "Epoch 18/20\n",
      "133/133 [==============================] - 314s 2s/step - loss: 0.2492 - categorical_accuracy: 0.9193 - val_loss: 0.4069 - val_categorical_accuracy: 0.8500\n",
      "\n",
      "Epoch 00018: saving model to model_init_2020-12-2608_14_47.401642/model-00018-0.24688-0.92006-0.40691-0.85000.h5\n",
      "Epoch 19/20\n",
      "133/133 [==============================] - 313s 2s/step - loss: 0.2385 - categorical_accuracy: 0.9083 - val_loss: 0.3592 - val_categorical_accuracy: 0.8700\n",
      "\n",
      "Epoch 00019: saving model to model_init_2020-12-2608_14_47.401642/model-00019-0.23855-0.90799-0.35916-0.87000.h5\n",
      "Epoch 20/20\n",
      "133/133 [==============================] - 312s 2s/step - loss: 0.2154 - categorical_accuracy: 0.9128 - val_loss: 0.3510 - val_categorical_accuracy: 0.8600\n",
      "\n",
      "Epoch 00020: saving model to model_init_2020-12-2608_14_47.401642/model-00020-0.21539-0.91252-0.35097-0.86000.h5\n"
     ]
    }
   ],
   "source": [
    "model.fit_generator(train_generator, steps_per_epoch=steps_per_epoch, epochs=num_epochs, verbose=1, \n",
    "                    callbacks=callbacks_list, validation_data=val_generator, \n",
    "                    validation_steps=validation_steps, class_weight=None, initial_epoch=0)"
   ]
  },
  {
   "cell_type": "markdown",
   "metadata": {},
   "source": [
    "#### The above architecture has been selected for the given problem. The best set of train and val accuracy was obtained at epoch 12 with 88.42% training accuracy and 87% validation accuracy."
   ]
  },
  {
   "cell_type": "code",
   "execution_count": null,
   "metadata": {},
   "outputs": [],
   "source": []
  }
 ],
 "metadata": {
  "kernelspec": {
   "display_name": "Python 3",
   "language": "python",
   "name": "python3"
  },
  "language_info": {
   "codemirror_mode": {
    "name": "ipython",
    "version": 3
   },
   "file_extension": ".py",
   "mimetype": "text/x-python",
   "name": "python",
   "nbconvert_exporter": "python",
   "pygments_lexer": "ipython3",
   "version": "3.8.3"
  }
 },
 "nbformat": 4,
 "nbformat_minor": 2
}
